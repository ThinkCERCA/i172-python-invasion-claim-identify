{
  "nbformat": 4,
  "nbformat_minor": 0,
  "metadata": {
    "colab": {
      "provenance": [],
      "collapsed_sections": []
    },
    "kernelspec": {
      "name": "python3",
      "display_name": "Python 3"
    },
    "language_info": {
      "name": "python"
    },
    "gpuClass": "standard"
  },
  "cells": [
    {
      "cell_type": "code",
      "execution_count": null,
      "metadata": {
        "id": "2ZP0MCuco9Dj"
      },
      "outputs": [],
      "source": []
    },
    {
      "cell_type": "markdown",
      "source": [
        "Install environment"
      ],
      "metadata": {
        "id": "g5rcL7i3pGtj"
      }
    },
    {
      "cell_type": "code",
      "source": [
        "!pip install transformers\n",
        "!pip install sentencepiece"
      ],
      "metadata": {
        "id": "8JvAIoTepJwe"
      },
      "execution_count": null,
      "outputs": []
    },
    {
      "cell_type": "markdown",
      "source": [
        "Upload data to colab"
      ],
      "metadata": {
        "id": "oVqkdlhopbeC"
      }
    },
    {
      "cell_type": "code",
      "source": [
        "# after shift+enter, you have to click choose file,choose the 'tr.csv', can shift+enter again to upload i172_7000_v1_text.txt, i172_7000_vs2_label.txt and i172_589_labels_updated.txt\n",
        "# we need upload 4 files\n",
        "from google.colab import files\n",
        "uploaded = files.upload()"
      ],
      "metadata": {
        "id": "_yzSmlihpaxn"
      },
      "execution_count": null,
      "outputs": []
    },
    {
      "cell_type": "markdown",
      "source": [
        "Read data"
      ],
      "metadata": {
        "id": "-BpcRaBhplLv"
      }
    },
    {
      "cell_type": "code",
      "source": [
        "import pandas as pd\n",
        "df = pd.read_csv(\"tr.csv\")"
      ],
      "metadata": {
        "id": "dSmMBqoLpnKV"
      },
      "execution_count": 3,
      "outputs": []
    },
    {
      "cell_type": "code",
      "source": [
        "import numpy as np\n",
        "with open('i172_7000_vs2_label.txt','r') as f:\n",
        "  claim = f.readlines()\n",
        "labels = [np.int(t.strip()) for t in claim]\n",
        "\n",
        "with open('i172_7000_vs1_text.txt','r') as f:\n",
        "  texts = f.readlines()\n",
        "texts = [t.strip() for t in texts]"
      ],
      "metadata": {
        "id": "4R_8GsvEpuAL"
      },
      "execution_count": null,
      "outputs": []
    },
    {
      "cell_type": "markdown",
      "source": [
        "Using GPU"
      ],
      "metadata": {
        "id": "7VGUdGbwp_-w"
      }
    },
    {
      "cell_type": "code",
      "source": [
        "import numpy as np\n",
        "import torch\n",
        "device = torch.device('cuda') if torch.cuda.is_available() else torch.device('cpu')"
      ],
      "metadata": {
        "id": "azBTb1v0qMBo"
      },
      "execution_count": 7,
      "outputs": []
    },
    {
      "cell_type": "markdown",
      "source": [
        "data prepare"
      ],
      "metadata": {
        "id": "eSFgKj7aujXU"
      }
    },
    {
      "cell_type": "code",
      "source": [
        "# split data to training and validation\n",
        "from sklearn.model_selection import train_test_split\n",
        "from sklearn.metrics import f1_score,recall_score,precision_score,accuracy_score\n",
        "from sklearn.metrics import confusion_matrix\n",
        "train_texts, val_texts, train_labels, val_labels = train_test_split(texts, labels, random_state=2, test_size=0.1)"
      ],
      "metadata": {
        "id": "NMl-x7PbstIi"
      },
      "execution_count": 8,
      "outputs": []
    },
    {
      "cell_type": "code",
      "source": [
        "# load tokenizer, turn data to bert type token\n",
        "from transformers import BertTokenizerFast,RobertaTokenizer\n",
        "from transformers import XLNetTokenizer, XLNetForSequenceClassification\n",
        "tokenizer = XLNetTokenizer.from_pretrained(\"xlnet-base-cased\")\n",
        "# tokenizer = BertTokenizerFast.from_pretrained('bert-base-uncased')\n",
        "train_encodings = tokenizer(train_texts, truncation=True, padding=True)\n",
        "val_encodings = tokenizer(val_texts, truncation=True, padding=True)"
      ],
      "metadata": {
        "id": "QwGoUMnxugJv"
      },
      "execution_count": null,
      "outputs": []
    },
    {
      "cell_type": "code",
      "source": [
        "# turn data to torch dataset\n",
        "class bertDataset(torch.utils.data.Dataset):\n",
        "    def __init__(self, encodings, labels):\n",
        "        self.encodings = encodings\n",
        "        self.labels = labels\n",
        "\n",
        "    def __getitem__(self, idx):\n",
        "        item = {key: torch.tensor(val[idx]) for key, val in self.encodings.items()}\n",
        "        item['labels'] = torch.tensor(self.labels[idx])\n",
        "        return item\n",
        "\n",
        "    def __len__(self):\n",
        "        return len(self.labels)\n",
        "\n",
        "train_dataset = bertDataset(train_encodings, train_labels)\n",
        "val_dataset = bertDataset(val_encodings, val_labels)"
      ],
      "metadata": {
        "id": "MS_dGFb7vCvv"
      },
      "execution_count": 10,
      "outputs": []
    },
    {
      "cell_type": "markdown",
      "source": [
        "Prepare model"
      ],
      "metadata": {
        "id": "FrpFOiHEvP4h"
      }
    },
    {
      "cell_type": "code",
      "source": [
        "# training metrics, will show result during training\n",
        "def compute_metrics(p):\n",
        "    pred, labels = p\n",
        "    pred = np.argmax(pred, axis=1)\n",
        "\n",
        "    accuracy = accuracy_score(y_true=labels, y_pred=pred)\n",
        "    recall = recall_score(y_true=labels, y_pred=pred)\n",
        "    precision = precision_score(y_true=labels, y_pred=pred)\n",
        "    f1 = f1_score(y_true=labels, y_pred=pred)\n",
        "\n",
        "    return {\"accuracy\": accuracy, \"precision\": precision, \"recall\": recall, \"f1\": f1}"
      ],
      "metadata": {
        "id": "8NNL4mr3vPLN"
      },
      "execution_count": 11,
      "outputs": []
    },
    {
      "cell_type": "code",
      "source": [
        "from transformers import BertForSequenceClassification, Trainer, TrainingArguments, EarlyStoppingCallback\n",
        "from torch import nn\n",
        "\n",
        "# set some parameter\n",
        "training_args = TrainingArguments(\n",
        "    output_dir='./results',          # output directory\n",
        "    num_train_epochs=2,              # total number of training epochs\n",
        "    learning_rate=2e-05,\n",
        "    per_device_train_batch_size=4,  # batch size per device during training\n",
        "    per_device_eval_batch_size=64,   # batch size for evaluation\n",
        "    warmup_steps=400,                # number of warmup steps for learning rate scheduler\n",
        "    weight_decay=0.01,               # strength of weight decay\n",
        "    logging_steps=100,\n",
        "    evaluation_strategy=\"steps\",\n",
        "    load_best_model_at_end=True\n",
        ")\n",
        "# using XLnet classification model\n",
        "model = XLNetForSequenceClassification.from_pretrained(\"xlnet-base-cased\")\n",
        "# using bert classification model\n",
        "# model = BertForSequenceClassification.from_pretrained(\"bert-base-uncased\")\n",
        "model.to(device) # put model to gpu\n",
        "trainer = Trainer(\n",
        "    model=model,                         # the instantiated 🤗 Transformers model to be trained\n",
        "    args=training_args,                  # training arguments, defined above\n",
        "    train_dataset=train_dataset,         # training dataset\n",
        "    eval_dataset=val_dataset,# evaluation dataset\n",
        "    compute_metrics=compute_metrics,             \n",
        "    # callbacks=[EarlyStoppingCallback(early_stopping_patience=3)],\n",
        "\n",
        "    )\n",
        "\n",
        "\n",
        "trainer.train()"
      ],
      "metadata": {
        "id": "4eh0LhPIxdQp"
      },
      "execution_count": null,
      "outputs": []
    },
    {
      "cell_type": "markdown",
      "source": [
        "Save model"
      ],
      "metadata": {
        "id": "p4m-NZyaf3he"
      }
    },
    {
      "cell_type": "code",
      "source": [
        "output_dir='./model'\n",
        "model_to_save = model.module if hasattr(model, 'module') else model  # Take care of distributed/parallel training\n",
        "model_to_save.save_pretrained(output_dir)\n",
        "tokenizer.save_pretrained(output_dir)"
      ],
      "metadata": {
        "id": "_w1uGhgvfFuu"
      },
      "execution_count": null,
      "outputs": []
    },
    {
      "cell_type": "markdown",
      "source": [
        "download model"
      ],
      "metadata": {
        "id": "3AqYLENjf7of"
      }
    },
    {
      "cell_type": "code",
      "source": [
        "from google.colab import files\n",
        "!zip -r /content/model.zip /content/model\n",
        "files.download('model.zip')"
      ],
      "metadata": {
        "id": "8y-AqyaAf6sg"
      },
      "execution_count": null,
      "outputs": []
    },
    {
      "cell_type": "markdown",
      "source": [
        "Predict "
      ],
      "metadata": {
        "id": "2uxxMHVA1LbM"
      }
    },
    {
      "cell_type": "code",
      "source": [
        "model.eval()\n",
        "import torch.nn.functional as F\n",
        "#this will predict one sentence each time\n",
        "def predict(content):\n",
        "\n",
        "    inputs = tokenizer(content,\n",
        "                       \n",
        "                       padding='max_length',\n",
        "                       truncation=True, return_tensors=\"pt\")\n",
        "    # move to gpu\n",
        "    ids = inputs[\"input_ids\"].to(device)\n",
        "    idt = inputs[\"token_type_ids\"].to(device)\n",
        "    mask = inputs[\"attention_mask\"].to(device)\n",
        "    # forward pass\n",
        "    outputs = model(ids,token_type_ids=idt,attention_mask=mask)\n",
        "    logits = outputs[0]\n",
        "    x = F.softmax(logits, dim=-1)\n",
        "    active_logits = logits.view(-1, model.num_labels)  # shape (batch_size * seq_len, num_labels)\n",
        "    flattened_predictions = torch.argmax(active_logits,\n",
        "                                         axis=1)\n",
        "    return x.cpu().detach().numpy()[0][1], flattened_predictions.cpu().numpy()[0]"
      ],
      "metadata": {
        "id": "uu8C9w_j1K08"
      },
      "execution_count": 13,
      "outputs": []
    },
    {
      "cell_type": "markdown",
      "source": [
        "prepare test data"
      ],
      "metadata": {
        "id": "EZOrJGMV2YlW"
      }
    },
    {
      "cell_type": "code",
      "source": [
        "sentences = df.irsen_text.values.tolist()[7000:]\n",
        "# real = df.claim_s.values.tolist()[7000:]\n",
        "# also need to upload i172_589_labels_updated.txt, this is the new labeled 589 test data.\n",
        "with open('i172_589_labels_updated.txt','r') as f:\n",
        "  real = f.readlines()\n",
        "real = [np.int(t.strip()) for t in real]\n",
        "len(sentences)"
      ],
      "metadata": {
        "id": "jFtUHXpF2W0K"
      },
      "execution_count": null,
      "outputs": []
    },
    {
      "cell_type": "code",
      "source": [
        "pre = []# predict label\n",
        "pre_pro = []# predict probility\n",
        "for i in sentences:\n",
        "  x = predict(i)\n",
        "  pre.append(x[1])\n",
        "  pre_pro.append(x[0])"
      ],
      "metadata": {
        "id": "W8IksOq92qug"
      },
      "execution_count": null,
      "outputs": []
    },
    {
      "cell_type": "markdown",
      "source": [
        "Show result"
      ],
      "metadata": {
        "id": "grVRfFm_3CMa"
      }
    },
    {
      "cell_type": "code",
      "source": [
        "print('f1:'+str(f1_score(real, pre, average=None))+'\\n'+'recall:'+str(recall_score(real, pre, average=None))+'\\n'+'precision:'+str(precision_score(real, pre, average=None))+'\\n'+'accuracy:'+str(accuracy_score(real, pre))+'\\n')"
      ],
      "metadata": {
        "id": "Vh8YVvaL292U"
      },
      "execution_count": null,
      "outputs": []
    },
    {
      "cell_type": "code",
      "source": [
        "confusion_matrix(real, pre)"
      ],
      "metadata": {
        "id": "x3KXqewY3JI4"
      },
      "execution_count": null,
      "outputs": []
    },
    {
      "cell_type": "markdown",
      "source": [
        "Show probability graph"
      ],
      "metadata": {
        "id": "R8H0L4yf3LiO"
      }
    },
    {
      "cell_type": "code",
      "source": [
        "import matplotlib.pyplot as plt\n",
        "import numpy as np\n",
        "fig, ax = plt.subplots(1,1,figsize = (10,5))\n",
        "ax.hist(np.array(pre_pro)[np.array(real) == 1], color = \"darkred\",bins = \"scott\", alpha = .5, edgecolor = \"red\")\n",
        "ax.hist(np.array(pre_pro)[np.array(real) == 0], color = \"darkgreen\",bins = \"scott\", alpha = .5, edgecolor = \"green\")"
      ],
      "metadata": {
        "id": "8E3Km4wC28Bn"
      },
      "execution_count": null,
      "outputs": []
    },
    {
      "cell_type": "code",
      "source": [
        "# number of samples model gives probabilty more than .8 but real label are non-evidence\n",
        "print('num of samples have score more than 0.8 but are non-evidence : '+ str(np.sum(np.array(pre_pro)[np.array(real) == 0]>=0.8)))\n",
        "print('num of samples have score more than 0.8 are non-evidence : '+ str(np.sum(np.array(pre_pro)[np.array(real) == 1]>=0.8)))\n",
        "# how much confidence if the socore is higher than 0.8, we are 85.7% confident that the sentence is evidence if the score is higher than .8\n",
        "confi80 = str(round((np.sum(np.array(pre_pro)[np.array(real) == 1]>=0.8))/(np.sum(np.array(pre_pro)[np.array(real) == 1]>=0.8) + np.sum(np.array(pre_pro)[np.array(real) == 0]>=0.8)),4))\n",
        "print('we are '+ confi80 +' confident that the sentence is evidence if the score is higher than .8')\n",
        "# number of samples model gives probabilty more than .6 less than .8 but real label is non-evidence\n",
        "num6080_nevid = np.sum(np.array(pre_pro)[np.array(real) == 0]>=0.6) - np.sum(np.array(pre_pro)[np.array(real) == 0]>=0.80)\n",
        "num6080_evid = np.sum(np.array(pre_pro)[np.array(real) == 1]>=0.6) - np.sum(np.array(pre_pro)[np.array(real) == 1]>=0.80)\n",
        "print('num of samples have score more than 0.6 and less than 0.8 but are non-evidence :'+ str(num6080_nevid))\n",
        "print('num of samples have score more than 0.6 and less than 0.8 are evidence :'+ str(num6080_evid))\n",
        "confi6080 = num6080_evid/(num6080_evid + num6080_nevid)\n",
        "print('we are '+ str(round(confi6080,4)) +' confident that the sentence is evidence if the score is higher than .6 and less than .8')"
      ],
      "metadata": {
        "id": "uCxH3vO3tfk-"
      },
      "execution_count": null,
      "outputs": []
    },
    {
      "cell_type": "code",
      "source": [
        "print('num of samples have score more than 0.8 but are non-evidence : '+ str(np.sum(np.array(pre_pro)[np.array(real) == 0]<=0.2)))\n",
        "print('num of samples have score more than 0.8 are non-evidence : '+ str(np.sum(np.array(pre_pro)[np.array(real) == 1]<=0.2)))\n",
        "confi20 = str(round((np.sum(np.array(pre_pro)[np.array(real) == 0]<=0.2))/(np.sum(np.array(pre_pro)[np.array(real) == 0]<=0.2) + np.sum(np.array(pre_pro)[np.array(real) == 1]<=0.2)),4))\n",
        "print('we are '+ confi80 +' confident that the sentence is non-evidence if the score is higher than .2')\n",
        "num2040_nevid = np.sum(np.array(pre_pro)[np.array(real) == 0]<=0.4) - np.sum(np.array(pre_pro)[np.array(real) == 0]<=0.2)\n",
        "num2040_evid = np.sum(np.array(pre_pro)[np.array(real) == 1]<=0.4) - np.sum(np.array(pre_pro)[np.array(real) == 1]<=0.2)\n",
        "print('num of samples have score more than 0.2 and less than 0.4 but are non-evidence :'+ str(num2040_nevid))\n",
        "print('num of samples have score more than 0.2 and less than 0.4 are evidence :'+ str(num2040_evid))\n",
        "confi2040 = num2040_nevid/(num2040_evid + num2040_nevid)\n",
        "print('we are '+ str(round(confi2040,4)) +' confident that the sentence is non-evidence if the score is higher than .2 and less than .4')"
      ],
      "metadata": {
        "id": "G_76HdfutomY"
      },
      "execution_count": null,
      "outputs": []
    },
    {
      "cell_type": "code",
      "source": [
        "# print the wrong predictions. The end of sentence shows the real labels\n",
        "for i in range(len(real)):\n",
        "  if real[i] != pre[i]:\n",
        "    print(sentences[i] + ' claim' if real[i] else sentences[i] + ' noclaim')"
      ],
      "metadata": {
        "id": "UH1dwnICsOxP"
      },
      "execution_count": null,
      "outputs": []
    }
  ]
}
