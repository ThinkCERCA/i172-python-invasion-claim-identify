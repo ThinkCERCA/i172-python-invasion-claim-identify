{
  "nbformat": 4,
  "nbformat_minor": 0,
  "metadata": {
    "colab": {
      "name": "predict_bert_multi_label.ipynb",
      "provenance": [],
      "collapsed_sections": [],
      "machine_shape": "hm"
    },
    "kernelspec": {
      "name": "python3",
      "display_name": "Python 3"
    },
    "language_info": {
      "name": "python"
    },
    "accelerator": "GPU",
    "gpuClass": "standard"
  },
  "cells": [
    {
      "cell_type": "code",
      "execution_count": null,
      "metadata": {
        "id": "tiwJP_niHR4V"
      },
      "outputs": [],
      "source": [
        "!pip install transformers\n",
        "!pip install sentencepiece"
      ]
    },
    {
      "cell_type": "markdown",
      "source": [
        "Upload model(model.zip)"
      ],
      "metadata": {
        "id": "MsL2CUxkJtUd"
      }
    },
    {
      "cell_type": "code",
      "source": [
        "from google.colab import files\n",
        "uploaded = files.upload()"
      ],
      "metadata": {
        "id": "impb58rlISk0"
      },
      "execution_count": null,
      "outputs": []
    },
    {
      "cell_type": "markdown",
      "source": [
        "Unzip"
      ],
      "metadata": {
        "id": "WqmPTuUhJzZW"
      }
    },
    {
      "cell_type": "code",
      "source": [
        "!unzip model.zip"
      ],
      "metadata": {
        "id": "f3X1xMe8IQfC"
      },
      "execution_count": null,
      "outputs": []
    },
    {
      "cell_type": "code",
      "source": [
        "\n",
        "from transformers import BertTokenizerFast, BertForSequenceClassification\n",
        "import torch\n",
        "device='cuda' if torch.cuda.is_available() else 'cpu'\n",
        "tokenizer = BertTokenizerFast.from_pretrained('bert-base-uncased')\n",
        "model = BertForSequenceClassification.from_pretrained('./model',problem_type=\"multi_label_classification\")\n",
        "model.to(device)"
      ],
      "metadata": {
        "id": "3ASrSw9wHuAM"
      },
      "execution_count": null,
      "outputs": []
    },
    {
      "cell_type": "markdown",
      "source": [
        "Prepare predict function"
      ],
      "metadata": {
        "id": "4sitGdvdJ_Hy"
      }
    },
    {
      "cell_type": "code",
      "source": [
        "model.eval()\n",
        "import torch.nn.functional as F\n",
        "def predict(content,threshold=.5):\n",
        "\n",
        "    inputs = tokenizer(content,\n",
        "                       #return_offsets_mapping=True,\n",
        "                       padding='max_length',\n",
        "                       truncation=True, return_tensors=\"pt\")\n",
        "\n",
        "    # move to gpu\n",
        "    ids = inputs[\"input_ids\"].to(device)\n",
        "    idt = inputs[\"token_type_ids\"].to(device)\n",
        "    #print(inputs[\"input_ids\"])\n",
        "    mask = inputs[\"attention_mask\"].to(device)\n",
        "    # forward pass\n",
        "    outputs = model(ids,token_type_ids=idt,attention_mask=mask)\n",
        "    logits = outputs[0]\n",
        "    \n",
        "    \n",
        "    \n",
        "    # x = F.sigmoid(logits)\n",
        "    sigmoid = torch.nn.Sigmoid()\n",
        "    probs = sigmoid(torch.Tensor(logits))\n",
        "    print(probs)\n",
        "    # active_logits = logits.view(-1, model.num_labels)  # shape (batch_size * seq_len, num_labels)\n",
        "    \n",
        "    # print(active_logits.cpu().detach().numpy()[0])\n",
        "    # flattened_predictions = active_logits.cpu().detach().numpy()[0]\n",
        "    flattened_predictions = probs.cpu().detach().numpy()[0]\n",
        "    label = []\n",
        "    \n",
        "    for i in range(len(flattened_predictions)):\n",
        "      if flattened_predictions[i] >= threshold:\n",
        "        label.append(i)\n",
        "\n",
        "    return flattened_predictions[0],[3] if label == [] else label"
      ],
      "metadata": {
        "id": "ToiwTGLuJB56"
      },
      "execution_count": 6,
      "outputs": []
    },
    {
      "cell_type": "code",
      "source": [
        "#upload test data, still tr.csv\n",
        "from google.colab import files\n",
        "uploaded = files.upload()"
      ],
      "metadata": {
        "id": "-FPc2J8IJB_m"
      },
      "execution_count": null,
      "outputs": []
    },
    {
      "cell_type": "markdown",
      "source": [
        "Prepare test data"
      ],
      "metadata": {
        "id": "CiliqftyKapu"
      }
    },
    {
      "cell_type": "code",
      "source": [
        "import pandas as pd\n",
        "df = pd.read_csv(\"tr.csv\")"
      ],
      "metadata": {
        "id": "oWo-_I4KKYcR"
      },
      "execution_count": 9,
      "outputs": []
    },
    {
      "cell_type": "code",
      "source": [
        "sentence = df.irsen_text.values.tolist()[7000:]\n",
        "# real = df.one_hot_labels.values.tolist()[7000:]\n",
        "real_c = df.claim_s.values.tolist()[7000:]\n",
        "real_e = df.evid_s.values.tolist()[7000:]"
      ],
      "metadata": {
        "id": "oxY5jGEOKfMd"
      },
      "execution_count": 10,
      "outputs": []
    },
    {
      "cell_type": "markdown",
      "source": [
        "Predict the test set"
      ],
      "metadata": {
        "id": "JWzl1KdcKPfl"
      }
    },
    {
      "cell_type": "code",
      "source": [
        "pre_c = []\n",
        "pre_e = []\n",
        "pro_c = []# claim probability\n",
        "for i in range(len(sentence)):\n",
        "  y, x = predict(sentence[i])\n",
        "  pro_c.append(y)\n",
        "  if 0 in x and 1 in x:\n",
        "    pre_c.append(1)\n",
        "    pre_e.append(1)\n",
        "  elif 1 in x:\n",
        "    pre_c.append(0)\n",
        "    pre_e.append(1)\n",
        "  elif 0 in x:\n",
        "    pre_c.append(1)\n",
        "    pre_e.append(0)\n",
        "  else:\n",
        "    pre_c.append(0)\n",
        "    pre_e.append(0)"
      ],
      "metadata": {
        "id": "vWkSBkhRKKgE"
      },
      "execution_count": null,
      "outputs": []
    },
    {
      "cell_type": "code",
      "source": [],
      "metadata": {
        "id": "aOzVmEvIs96L"
      },
      "execution_count": null,
      "outputs": []
    },
    {
      "cell_type": "markdown",
      "source": [
        "Show result"
      ],
      "metadata": {
        "id": "QawAAO9hKmy4"
      }
    },
    {
      "cell_type": "code",
      "source": [
        "print('f1:'+str(f1_score(real_c, pre_c, average=None))+'\\n'+'recall:'+str(recall_score(real_c, pre_c, average=None))+'\\n'+'precision:'+str(precision_score(real_c, pre_c, average=None))+'\\n'+'accuracy:'+str(accuracy_score(real_c, pre_c))+'\\n')"
      ],
      "metadata": {
        "id": "_2RmnTp1KKng"
      },
      "execution_count": null,
      "outputs": []
    },
    {
      "cell_type": "code",
      "source": [
        "confusion_matrix(real_c, pre_c)"
      ],
      "metadata": {
        "id": "MlcIp3SRKKtB"
      },
      "execution_count": null,
      "outputs": []
    },
    {
      "cell_type": "code",
      "source": [
        "import matplotlib.pyplot as plt\n",
        "import numpy as np\n",
        "fig, ax = plt.subplots(1,1,figsize = (10,5))\n",
        "ax.hist(np.array(pro_c)[np.array(real_c) == 1], color = \"darkred\",bins = \"scott\", alpha = .5, edgecolor = \"red\")\n",
        "ax.hist(np.array(pro_c)[np.array(real_c) == 0], color = \"darkgreen\",bins = \"scott\", alpha = .5, edgecolor = \"green\")"
      ],
      "metadata": {
        "id": "Sn-_yiwmKKw5"
      },
      "execution_count": null,
      "outputs": []
    },
    {
      "cell_type": "code",
      "source": [],
      "metadata": {
        "id": "UbUtnT7RKKzo"
      },
      "execution_count": null,
      "outputs": []
    },
    {
      "cell_type": "code",
      "source": [],
      "metadata": {
        "id": "pKaAtwi-KwXO"
      },
      "execution_count": null,
      "outputs": []
    },
    {
      "cell_type": "code",
      "source": [
        "# print the wrong predictions. The end of sentence shows the real labels\n",
        "for i in range(len(real_c)):\n",
        "  if real_c[i] != pre_c[i]:\n",
        "    print(sentence[i] + ' claim' if real_c[i] else sentence[i] + ' noclaim')"
      ],
      "metadata": {
        "id": "siuPqsslK0nx"
      },
      "execution_count": null,
      "outputs": []
    }
  ]
}