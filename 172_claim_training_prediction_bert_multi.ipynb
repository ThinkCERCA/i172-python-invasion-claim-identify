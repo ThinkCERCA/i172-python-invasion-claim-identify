{
  "nbformat": 4,
  "nbformat_minor": 0,
  "metadata": {
    "colab": {
      "provenance": [],
      "collapsed_sections": []
    },
    "kernelspec": {
      "name": "python3",
      "display_name": "Python 3"
    },
    "language_info": {
      "name": "python"
    },
    "gpuClass": "standard",
    "accelerator": "GPU"
  },
  "cells": [
    {
      "cell_type": "code",
      "execution_count": null,
      "metadata": {
        "id": "2ZP0MCuco9Dj"
      },
      "outputs": [],
      "source": []
    },
    {
      "cell_type": "markdown",
      "source": [
        "Install environment"
      ],
      "metadata": {
        "id": "g5rcL7i3pGtj"
      }
    },
    {
      "cell_type": "code",
      "source": [
        "!pip install transformers\n",
        "!pip install sentencepiece"
      ],
      "metadata": {
        "id": "8JvAIoTepJwe"
      },
      "execution_count": null,
      "outputs": []
    },
    {
      "cell_type": "markdown",
      "source": [
        "Upload data to colab"
      ],
      "metadata": {
        "id": "oVqkdlhopbeC"
      }
    },
    {
      "cell_type": "code",
      "source": [
        "# after shift+enter, you have to click choose file,choose the 'tr.csv', can shift+enter again to upload i172_7000_v1_text.txt, i172_7000_vs2_label.txt and i172_589_labels_updated.txt\n",
        "# we need upload 4 files\n",
        "from google.colab import files\n",
        "uploaded = files.upload()"
      ],
      "metadata": {
        "id": "_yzSmlihpaxn",
        "colab": {
          "base_uri": "https://localhost:8080/",
          "height": 40
        },
        "outputId": "e3ddeb71-fa2a-4cf5-ca38-c1002a99c010"
      },
      "execution_count": 5,
      "outputs": [
        {
          "output_type": "display_data",
          "data": {
            "text/plain": [
              "<IPython.core.display.HTML object>"
            ],
            "text/html": [
              "\n",
              "     <input type=\"file\" id=\"files-7ea24ec3-ebcb-44d1-bc20-1a7e963237b5\" name=\"files[]\" multiple disabled\n",
              "        style=\"border:none\" />\n",
              "     <output id=\"result-7ea24ec3-ebcb-44d1-bc20-1a7e963237b5\">\n",
              "      Upload widget is only available when the cell has been executed in the\n",
              "      current browser session. Please rerun this cell to enable.\n",
              "      </output>\n",
              "      <script>// Copyright 2017 Google LLC\n",
              "//\n",
              "// Licensed under the Apache License, Version 2.0 (the \"License\");\n",
              "// you may not use this file except in compliance with the License.\n",
              "// You may obtain a copy of the License at\n",
              "//\n",
              "//      http://www.apache.org/licenses/LICENSE-2.0\n",
              "//\n",
              "// Unless required by applicable law or agreed to in writing, software\n",
              "// distributed under the License is distributed on an \"AS IS\" BASIS,\n",
              "// WITHOUT WARRANTIES OR CONDITIONS OF ANY KIND, either express or implied.\n",
              "// See the License for the specific language governing permissions and\n",
              "// limitations under the License.\n",
              "\n",
              "/**\n",
              " * @fileoverview Helpers for google.colab Python module.\n",
              " */\n",
              "(function(scope) {\n",
              "function span(text, styleAttributes = {}) {\n",
              "  const element = document.createElement('span');\n",
              "  element.textContent = text;\n",
              "  for (const key of Object.keys(styleAttributes)) {\n",
              "    element.style[key] = styleAttributes[key];\n",
              "  }\n",
              "  return element;\n",
              "}\n",
              "\n",
              "// Max number of bytes which will be uploaded at a time.\n",
              "const MAX_PAYLOAD_SIZE = 100 * 1024;\n",
              "\n",
              "function _uploadFiles(inputId, outputId) {\n",
              "  const steps = uploadFilesStep(inputId, outputId);\n",
              "  const outputElement = document.getElementById(outputId);\n",
              "  // Cache steps on the outputElement to make it available for the next call\n",
              "  // to uploadFilesContinue from Python.\n",
              "  outputElement.steps = steps;\n",
              "\n",
              "  return _uploadFilesContinue(outputId);\n",
              "}\n",
              "\n",
              "// This is roughly an async generator (not supported in the browser yet),\n",
              "// where there are multiple asynchronous steps and the Python side is going\n",
              "// to poll for completion of each step.\n",
              "// This uses a Promise to block the python side on completion of each step,\n",
              "// then passes the result of the previous step as the input to the next step.\n",
              "function _uploadFilesContinue(outputId) {\n",
              "  const outputElement = document.getElementById(outputId);\n",
              "  const steps = outputElement.steps;\n",
              "\n",
              "  const next = steps.next(outputElement.lastPromiseValue);\n",
              "  return Promise.resolve(next.value.promise).then((value) => {\n",
              "    // Cache the last promise value to make it available to the next\n",
              "    // step of the generator.\n",
              "    outputElement.lastPromiseValue = value;\n",
              "    return next.value.response;\n",
              "  });\n",
              "}\n",
              "\n",
              "/**\n",
              " * Generator function which is called between each async step of the upload\n",
              " * process.\n",
              " * @param {string} inputId Element ID of the input file picker element.\n",
              " * @param {string} outputId Element ID of the output display.\n",
              " * @return {!Iterable<!Object>} Iterable of next steps.\n",
              " */\n",
              "function* uploadFilesStep(inputId, outputId) {\n",
              "  const inputElement = document.getElementById(inputId);\n",
              "  inputElement.disabled = false;\n",
              "\n",
              "  const outputElement = document.getElementById(outputId);\n",
              "  outputElement.innerHTML = '';\n",
              "\n",
              "  const pickedPromise = new Promise((resolve) => {\n",
              "    inputElement.addEventListener('change', (e) => {\n",
              "      resolve(e.target.files);\n",
              "    });\n",
              "  });\n",
              "\n",
              "  const cancel = document.createElement('button');\n",
              "  inputElement.parentElement.appendChild(cancel);\n",
              "  cancel.textContent = 'Cancel upload';\n",
              "  const cancelPromise = new Promise((resolve) => {\n",
              "    cancel.onclick = () => {\n",
              "      resolve(null);\n",
              "    };\n",
              "  });\n",
              "\n",
              "  // Wait for the user to pick the files.\n",
              "  const files = yield {\n",
              "    promise: Promise.race([pickedPromise, cancelPromise]),\n",
              "    response: {\n",
              "      action: 'starting',\n",
              "    }\n",
              "  };\n",
              "\n",
              "  cancel.remove();\n",
              "\n",
              "  // Disable the input element since further picks are not allowed.\n",
              "  inputElement.disabled = true;\n",
              "\n",
              "  if (!files) {\n",
              "    return {\n",
              "      response: {\n",
              "        action: 'complete',\n",
              "      }\n",
              "    };\n",
              "  }\n",
              "\n",
              "  for (const file of files) {\n",
              "    const li = document.createElement('li');\n",
              "    li.append(span(file.name, {fontWeight: 'bold'}));\n",
              "    li.append(span(\n",
              "        `(${file.type || 'n/a'}) - ${file.size} bytes, ` +\n",
              "        `last modified: ${\n",
              "            file.lastModifiedDate ? file.lastModifiedDate.toLocaleDateString() :\n",
              "                                    'n/a'} - `));\n",
              "    const percent = span('0% done');\n",
              "    li.appendChild(percent);\n",
              "\n",
              "    outputElement.appendChild(li);\n",
              "\n",
              "    const fileDataPromise = new Promise((resolve) => {\n",
              "      const reader = new FileReader();\n",
              "      reader.onload = (e) => {\n",
              "        resolve(e.target.result);\n",
              "      };\n",
              "      reader.readAsArrayBuffer(file);\n",
              "    });\n",
              "    // Wait for the data to be ready.\n",
              "    let fileData = yield {\n",
              "      promise: fileDataPromise,\n",
              "      response: {\n",
              "        action: 'continue',\n",
              "      }\n",
              "    };\n",
              "\n",
              "    // Use a chunked sending to avoid message size limits. See b/62115660.\n",
              "    let position = 0;\n",
              "    do {\n",
              "      const length = Math.min(fileData.byteLength - position, MAX_PAYLOAD_SIZE);\n",
              "      const chunk = new Uint8Array(fileData, position, length);\n",
              "      position += length;\n",
              "\n",
              "      const base64 = btoa(String.fromCharCode.apply(null, chunk));\n",
              "      yield {\n",
              "        response: {\n",
              "          action: 'append',\n",
              "          file: file.name,\n",
              "          data: base64,\n",
              "        },\n",
              "      };\n",
              "\n",
              "      let percentDone = fileData.byteLength === 0 ?\n",
              "          100 :\n",
              "          Math.round((position / fileData.byteLength) * 100);\n",
              "      percent.textContent = `${percentDone}% done`;\n",
              "\n",
              "    } while (position < fileData.byteLength);\n",
              "  }\n",
              "\n",
              "  // All done.\n",
              "  yield {\n",
              "    response: {\n",
              "      action: 'complete',\n",
              "    }\n",
              "  };\n",
              "}\n",
              "\n",
              "scope.google = scope.google || {};\n",
              "scope.google.colab = scope.google.colab || {};\n",
              "scope.google.colab._files = {\n",
              "  _uploadFiles,\n",
              "  _uploadFilesContinue,\n",
              "};\n",
              "})(self);\n",
              "</script> "
            ]
          },
          "metadata": {}
        }
      ]
    },
    {
      "cell_type": "markdown",
      "source": [
        "Read data"
      ],
      "metadata": {
        "id": "-BpcRaBhplLv"
      }
    },
    {
      "cell_type": "code",
      "source": [
        "#preprocess data using updated data\n",
        "import numpy as np\n",
        "with open('i172_7000_vs2_label.txt','r') as f:\n",
        "  claim = f.readlines()\n",
        "claim = [np.int(t.strip()) for t in claim]\n",
        "with open('i172_7000_vs1_text.txt','r') as f:\n",
        "  texts = f.readlines()\n",
        "texts = [t.strip() for t in texts]"
      ],
      "metadata": {
        "id": "b0CTuLA_ENVn",
        "colab": {
          "base_uri": "https://localhost:8080/"
        },
        "outputId": "74d64e12-f617-4927-f3dc-f35cdfc7ba6f"
      },
      "execution_count": 1,
      "outputs": [
        {
          "output_type": "stream",
          "name": "stderr",
          "text": [
            "/usr/local/lib/python3.7/dist-packages/ipykernel_launcher.py:5: DeprecationWarning: `np.int` is a deprecated alias for the builtin `int`. To silence this warning, use `int` by itself. Doing this will not modify any behavior and is safe. When replacing `np.int`, you may wish to use e.g. `np.int64` or `np.int32` to specify the precision. If you wish to review your current use, check the release note link for additional information.\n",
            "Deprecated in NumPy 1.20; for more details and guidance: https://numpy.org/devdocs/release/1.20.0-notes.html#deprecations\n",
            "  \"\"\"\n"
          ]
        }
      ]
    },
    {
      "cell_type": "code",
      "source": [
        "import pandas as pd\n",
        "df = pd.read_csv(\"tr.csv\")\n",
        "\n",
        "df = df[:7000]\n",
        "df['claim_s_new'] = claim\n",
        "df['one_hot_labels'] = list(df[['claim_s_new','evid_s','reasoning_s']].values)\n",
        "labels = list(df.one_hot_labels.values)\n",
        "# texts = list(df.irsen_text.values)\n",
        "labels = labels[:4487] + labels[4488:7000]\n",
        "texts = texts[:4487] + texts[4488:7000]\n",
        "texts = [t.replace('\\n','') for t in texts]"
      ],
      "metadata": {
        "id": "dSmMBqoLpnKV"
      },
      "execution_count": 2,
      "outputs": []
    },
    {
      "cell_type": "code",
      "source": [
        "for i in range(len(texts)):\n",
        "  if texts[i] == '':\n",
        "    labels[i] = labels[0]"
      ],
      "metadata": {
        "id": "eWUFYus8EZJE"
      },
      "execution_count": 3,
      "outputs": []
    },
    {
      "cell_type": "markdown",
      "source": [
        "Using GPU"
      ],
      "metadata": {
        "id": "7VGUdGbwp_-w"
      }
    },
    {
      "cell_type": "code",
      "source": [
        "import numpy as np\n",
        "import torch\n",
        "device = torch.device('cuda') if torch.cuda.is_available() else torch.device('cpu')"
      ],
      "metadata": {
        "id": "azBTb1v0qMBo"
      },
      "execution_count": 4,
      "outputs": []
    },
    {
      "cell_type": "markdown",
      "source": [
        "data prepare"
      ],
      "metadata": {
        "id": "eSFgKj7aujXU"
      }
    },
    {
      "cell_type": "code",
      "source": [
        "# split data to training and validation\n",
        "from sklearn.model_selection import train_test_split\n",
        "from sklearn.metrics import f1_score,recall_score,precision_score,accuracy_score\n",
        "from sklearn.metrics import confusion_matrix\n",
        "train_texts, val_texts, train_labels, val_labels = train_test_split(texts, labels, random_state=2, test_size=0.05)"
      ],
      "metadata": {
        "id": "NMl-x7PbstIi"
      },
      "execution_count": 5,
      "outputs": []
    },
    {
      "cell_type": "code",
      "source": [
        "# load tokenizer, turn data to bert type token\n",
        "from transformers import BertTokenizerFast,RobertaTokenizer\n",
        "from transformers import XLNetTokenizer, XLNetForSequenceClassification\n",
        "# tokenizer = XLNetTokenizer.from_pretrained(\"xlnet-base-cased\")\n",
        "tokenizer = BertTokenizerFast.from_pretrained('bert-base-uncased')\n",
        "train_encodings = tokenizer(train_texts, truncation=True, padding=True)\n",
        "val_encodings = tokenizer(val_texts, truncation=True, padding=True)"
      ],
      "metadata": {
        "id": "QwGoUMnxugJv"
      },
      "execution_count": 6,
      "outputs": []
    },
    {
      "cell_type": "code",
      "source": [
        "# turn data to torch dataset\n",
        "class bertDataset(torch.utils.data.Dataset):\n",
        "    def __init__(self, encodings, labels):\n",
        "        self.encodings = encodings\n",
        "        self.labels = labels\n",
        "\n",
        "    def __getitem__(self, idx):\n",
        "        item = {key: torch.tensor(val[idx]) for key, val in self.encodings.items()}\n",
        "        item['labels'] = torch.tensor(self.labels[idx],dtype=torch.float)\n",
        "        return item\n",
        "\n",
        "    def __len__(self):\n",
        "        return len(self.labels)\n",
        "\n",
        "train_dataset = bertDataset(train_encodings, train_labels)\n",
        "val_dataset = bertDataset(val_encodings, val_labels)"
      ],
      "metadata": {
        "id": "MS_dGFb7vCvv"
      },
      "execution_count": 7,
      "outputs": []
    },
    {
      "cell_type": "markdown",
      "source": [
        "Prepare model"
      ],
      "metadata": {
        "id": "FrpFOiHEvP4h"
      }
    },
    {
      "cell_type": "code",
      "source": [
        "# training metrics, will show result during training\n",
        "from transformers import EvalPrediction\n",
        "from sklearn.metrics import f1_score, roc_auc_score, accuracy_score\n",
        "import torch\n",
        "def multi_label_metrics(p, threshold=0.5):\n",
        "    # first, apply sigmoid on predictions which are of shape (batch_size, num_labels)\n",
        "    predictions, labels = p\n",
        "    sigmoid = torch.nn.Sigmoid()\n",
        "    probs = sigmoid(torch.Tensor(predictions))\n",
        "    # next, use threshold to turn them into integer predictions\n",
        "    y_pred = np.zeros(probs.shape)\n",
        "    y_pred[np.where(probs >= threshold)] = 1\n",
        "    # finally, compute metrics\n",
        "    y_true = labels\n",
        "    f1_micro_average = f1_score(y_true=y_true, y_pred=y_pred, average='micro')\n",
        "    roc_auc = roc_auc_score(y_true, y_pred, average = 'micro')\n",
        "    accuracy = accuracy_score(y_true, y_pred)\n",
        "    # return as dictionary\n",
        "    metrics = {'f1': f1_micro_average,\n",
        "               'roc_auc': roc_auc,\n",
        "               'accuracy': accuracy}\n",
        "    return metrics\n",
        "\n",
        "# def compute_metrics(p):\n",
        "#     pred, labels = p\n",
        "#     pred = np.argmax(pred, axis=1)\n",
        "\n",
        "#     accuracy = accuracy_score(y_true=labels, y_pred=pred)\n",
        "#     recall = recall_score(y_true=labels, y_pred=pred)\n",
        "#     precision = precision_score(y_true=labels, y_pred=pred)\n",
        "#     f1 = f1_score(y_true=labels, y_pred=pred)\n",
        "\n",
        "#     return {\"accuracy\": accuracy, \"precision\": precision, \"recall\": recall, \"f1\": f1}"
      ],
      "metadata": {
        "id": "8NNL4mr3vPLN"
      },
      "execution_count": 8,
      "outputs": []
    },
    {
      "cell_type": "code",
      "source": [
        "from transformers import BertForSequenceClassification, Trainer, TrainingArguments, EarlyStoppingCallback\n",
        "from torch import nn\n",
        "\n",
        "# set some parameter\n",
        "\n",
        "\n",
        "#using multi_label bert\n",
        "model = BertForSequenceClassification.from_pretrained(\"bert-base-uncased\", \n",
        "                                                           problem_type=\"multi_label_classification\", num_labels=3,\n",
        ")\n",
        "\n",
        "\n",
        "training_args = TrainingArguments(\n",
        "    output_dir='./results',\n",
        "    \n",
        "    evaluation_strategy = \"epoch\",\n",
        "    save_strategy = \"epoch\",\n",
        "    learning_rate=2e-5,\n",
        "    per_device_train_batch_size=8,\n",
        "    per_device_eval_batch_size=32,\n",
        "    num_train_epochs=5,\n",
        "    weight_decay=0.01,\n",
        "    logging_steps=100,\n",
        "    load_best_model_at_end=True,\n",
        "    metric_for_best_model='f1',\n",
        "    #push_to_hub=True,\n",
        ")                                                           \n",
        "model.to(device)# put model to gpu\n",
        "trainer = Trainer(\n",
        "    model=model,                         # the instantiated 🤗 Transformers model to be trained\n",
        "    args=training_args,                  # training arguments, defined above\n",
        "    train_dataset=train_dataset,         # training dataset\n",
        "    eval_dataset=val_dataset,# evaluation dataset\n",
        "    compute_metrics=multi_label_metrics,             \n",
        "    # callbacks=[EarlyStoppingCallback(early_stopping_patience=3)],\n",
        "    #model_init=model_init,\n",
        "    )\n",
        "\n",
        "trainer.train()"
      ],
      "metadata": {
        "id": "4eh0LhPIxdQp"
      },
      "execution_count": null,
      "outputs": []
    },
    {
      "cell_type": "markdown",
      "source": [
        "Save model"
      ],
      "metadata": {
        "id": "p4m-NZyaf3he"
      }
    },
    {
      "cell_type": "code",
      "source": [
        "output_dir='./model'\n",
        "model_to_save = model.module if hasattr(model, 'module') else model  # Take care of distributed/parallel training\n",
        "model_to_save.save_pretrained(output_dir)\n",
        "tokenizer.save_pretrained(output_dir)"
      ],
      "metadata": {
        "id": "_w1uGhgvfFuu"
      },
      "execution_count": null,
      "outputs": []
    },
    {
      "cell_type": "markdown",
      "source": [
        "download model"
      ],
      "metadata": {
        "id": "3AqYLENjf7of"
      }
    },
    {
      "cell_type": "code",
      "source": [
        "from google.colab import files\n",
        "!zip -r /content/model.zip /content/model\n",
        "files.download('model.zip')"
      ],
      "metadata": {
        "id": "8y-AqyaAf6sg"
      },
      "execution_count": null,
      "outputs": []
    },
    {
      "cell_type": "markdown",
      "source": [
        "Predict "
      ],
      "metadata": {
        "id": "2uxxMHVA1LbM"
      }
    },
    {
      "cell_type": "code",
      "source": [
        "model.eval()\n",
        "import torch.nn.functional as F\n",
        "def predict(content,threshold=.5):\n",
        "\n",
        "    inputs = tokenizer(content,\n",
        "                       #return_offsets_mapping=True,\n",
        "                       padding='max_length',\n",
        "                       truncation=True, return_tensors=\"pt\")\n",
        "\n",
        "    # move to gpu\n",
        "    ids = inputs[\"input_ids\"].to(device)\n",
        "    idt = inputs[\"token_type_ids\"].to(device)\n",
        "    #print(inputs[\"input_ids\"])\n",
        "    mask = inputs[\"attention_mask\"].to(device)\n",
        "    # forward pass\n",
        "    outputs = model(ids,token_type_ids=idt,attention_mask=mask)\n",
        "    logits = outputs[0]\n",
        "    \n",
        "    \n",
        "    \n",
        "    # x = F.sigmoid(logits)\n",
        "    sigmoid = torch.nn.Sigmoid()\n",
        "    probs = sigmoid(torch.Tensor(logits))\n",
        "    # print(probs)\n",
        "    # active_logits = logits.view(-1, model.num_labels)  # shape (batch_size * seq_len, num_labels)\n",
        "    \n",
        "    # print(active_logits.cpu().detach().numpy()[0])\n",
        "    # flattened_predictions = active_logits.cpu().detach().numpy()[0]\n",
        "    flattened_predictions = probs.cpu().detach().numpy()[0]\n",
        "    label = []\n",
        "    \n",
        "    for i in range(len(flattened_predictions)):\n",
        "      if flattened_predictions[i] >= threshold:\n",
        "        label.append(i)\n",
        "\n",
        "    return flattened_predictions[0],[3] if label == [] else label # 3 means noclaim, noevidence and noreasoning,0 is claim,1 is evidence, 2 is reasoning"
      ],
      "metadata": {
        "id": "uu8C9w_j1K08"
      },
      "execution_count": 10,
      "outputs": []
    },
    {
      "cell_type": "markdown",
      "source": [
        "prepare test data"
      ],
      "metadata": {
        "id": "EZOrJGMV2YlW"
      }
    },
    {
      "cell_type": "code",
      "source": [
        "import pandas as pd\n",
        "df = pd.read_csv(\"tr.csv\")\n",
        "sentence = df.irsen_text.values.tolist()[7000:]\n",
        "# real = df.one_hot_labels.values.tolist()[7000:]\n",
        "real_c = df.claim_s.values.tolist()[7000:]\n",
        "# with open('i172_589_labels_updated.txt','r') as f:\n",
        "#   real = f.readlines()\n",
        "# real_c = [np.int(t.strip()) for t in real]\n",
        "real_e = df.evid_s.values.tolist()[7000:]\n",
        "real_r = df.reasoning_s.values.tolist()[7000:]"
      ],
      "metadata": {
        "id": "jFtUHXpF2W0K"
      },
      "execution_count": 19,
      "outputs": []
    },
    {
      "cell_type": "code",
      "source": [
        "pre_c = []\n",
        "pre_r = []\n",
        "pre_e = []\n",
        "pro_c = []# claim probability\n",
        "for i in range(len(sentence)):\n",
        "  y, x = predict(sentence[i])\n",
        "  pro_c.append(y)\n",
        "  if 1 in x:\n",
        "    pre_e.append(1)\n",
        "  if 1 not in x:\n",
        "    pre_e.append(0)\n",
        "  if 2 in x:\n",
        "    pre_r.append(1)\n",
        "  if 2 not in x:\n",
        "    pre_r.append(0)\n",
        "  # if 0 in x and 1 in x and 2 in x:\n",
        "  #   pre_c.append(1)\n",
        "  #   pre_e.append(1)\n",
        "  #   pre_r.append(1)\n",
        "  # elif 1 in x:\n",
        "  #   pre_c.append(0)\n",
        "  #   pre_e.append(1)\n",
        "  # elif 0 in x:\n",
        "  #   pre_c.append(1)\n",
        "  #   pre_e.append(0)\n",
        "  # else:\n",
        "  #   pre_c.append(0)\n",
        "  #   pre_e.append(0)"
      ],
      "metadata": {
        "id": "W8IksOq92qug"
      },
      "execution_count": 20,
      "outputs": []
    },
    {
      "cell_type": "code",
      "source": [],
      "metadata": {
        "colab": {
          "base_uri": "https://localhost:8080/"
        },
        "id": "aMZdZAfBqhHE",
        "outputId": "7a200630-590a-4535-c85e-f17ca0af450b"
      },
      "execution_count": 17,
      "outputs": [
        {
          "output_type": "execute_result",
          "data": {
            "text/plain": [
              "[]"
            ]
          },
          "metadata": {},
          "execution_count": 17
        }
      ]
    },
    {
      "cell_type": "markdown",
      "source": [
        "Show result"
      ],
      "metadata": {
        "id": "grVRfFm_3CMa"
      }
    },
    {
      "cell_type": "code",
      "source": [
        "print('f1:'+str(f1_score(real_e, pre_e, average=None))+'\\n'+'recall:'+str(recall_score(real_e, pre_e, average=None))+'\\n'+'precision:'+str(precision_score(real_e, pre_e, average=None))+'\\n'+'accuracy:'+str(accuracy_score(real_e, pre_e))+'\\n')"
      ],
      "metadata": {
        "id": "Vh8YVvaL292U"
      },
      "execution_count": null,
      "outputs": []
    },
    {
      "cell_type": "code",
      "source": [
        "confusion_matrix(real_e, pre_e)"
      ],
      "metadata": {
        "id": "x3KXqewY3JI4"
      },
      "execution_count": null,
      "outputs": []
    },
    {
      "cell_type": "code",
      "source": [
        "print('f1:'+str(f1_score(real_r, pre_r, average=None))+'\\n'+'recall:'+str(recall_score(real_r, pre_r, average=None))+'\\n'+'precision:'+str(precision_score(real_r, pre_r, average=None))+'\\n'+'accuracy:'+str(accuracy_score(real_r, pre_r))+'\\n')"
      ],
      "metadata": {
        "id": "Olcb1cKJrNS2"
      },
      "execution_count": null,
      "outputs": []
    },
    {
      "cell_type": "code",
      "source": [
        "confusion_matrix(real_r, pre_r)"
      ],
      "metadata": {
        "id": "MJZKIP6vrNdO"
      },
      "execution_count": null,
      "outputs": []
    },
    {
      "cell_type": "markdown",
      "source": [
        "Show probability graph"
      ],
      "metadata": {
        "id": "R8H0L4yf3LiO"
      }
    },
    {
      "cell_type": "code",
      "source": [
        "import matplotlib.pyplot as plt\n",
        "import numpy as np\n",
        "fig, ax = plt.subplots(1,1,figsize = (10,5))\n",
        "ax.hist(np.array(pro_c)[np.array(real_c) == 1], color = \"darkred\",bins = \"scott\", alpha = .5, edgecolor = \"red\")\n",
        "ax.hist(np.array(pro_c)[np.array(real_c) == 0], color = \"darkgreen\",bins = \"scott\", alpha = .5, edgecolor = \"green\")"
      ],
      "metadata": {
        "id": "8E3Km4wC28Bn"
      },
      "execution_count": null,
      "outputs": []
    },
    {
      "cell_type": "code",
      "source": [],
      "metadata": {
        "id": "uCxH3vO3tfk-"
      },
      "execution_count": null,
      "outputs": []
    },
    {
      "cell_type": "code",
      "source": [],
      "metadata": {
        "id": "G_76HdfutomY"
      },
      "execution_count": null,
      "outputs": []
    },
    {
      "cell_type": "code",
      "source": [
        "# print the wrong predictions. The end of sentence shows the real labels\n",
        "for i in range(len(real_c)):\n",
        "  if real_c[i] != pre_c[i]:\n",
        "    print(sentence[i] + ' claim' if real_c[i] else sentence[i] + ' noclaim')"
      ],
      "metadata": {
        "id": "UH1dwnICsOxP"
      },
      "execution_count": null,
      "outputs": []
    }
  ]
}